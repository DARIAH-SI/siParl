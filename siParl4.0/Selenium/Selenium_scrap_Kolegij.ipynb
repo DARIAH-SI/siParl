{
 "cells": [
  {
   "cell_type": "code",
   "execution_count": 45,
   "id": "4451d341",
   "metadata": {},
   "outputs": [],
   "source": [
    "import os\n",
    "import re\n",
    "from selenium import webdriver\n",
    "from tqdm import tqdm\n",
    "from datetime import datetime\n",
    "from selenium.webdriver.common.by import By\n",
    "from selenium.webdriver.support.ui import WebDriverWait\n",
    "from selenium.webdriver.support import expected_conditions as EC\n",
    "from selenium.common.exceptions import NoSuchElementException, TimeoutException, StaleElementReferenceException\n",
    "from selenium.webdriver.chrome.options import Options"
   ]
  },
  {
   "cell_type": "code",
   "execution_count": 46,
   "id": "8eb835d2",
   "metadata": {},
   "outputs": [
    {
     "name": "stderr",
     "output_type": "stream",
     "text": [
      "C:\\Users\\KatjaMeden\\AppData\\Local\\Temp\\ipykernel_11964\\2608951862.py:4: DeprecationWarning: executable_path has been deprecated, please pass in a Service object\n",
      "  driver = webdriver.Chrome(executable_path=DRIVER_PATH, options=chrome_options)\n"
     ]
    }
   ],
   "source": [
    "chrome_options = Options()\n",
    "chrome_options.add_argument(\"--headless\")\n",
    "DRIVER_PATH = 'C:/Users/KatjaMeden/Documents/chromedriver-win64/chromedriver.exe'\n",
    "driver = webdriver.Chrome(executable_path=DRIVER_PATH, options=chrome_options)\n",
    "#driver = webdriver.Chrome(executable_path=DRIVER_PATH)\n",
    "wait = WebDriverWait(driver, 10)\n",
    "driver.get('https://www.dz-rs.si/wps/portal/Home/seje/sejePDZ/poDatumu')"
   ]
  },
  {
   "cell_type": "code",
   "execution_count": 47,
   "id": "607c4df3",
   "metadata": {},
   "outputs": [],
   "source": [
    "# CLICK CLICK COOKIIIIESSS\n",
    "\n",
    "cookies = driver.find_element(By.XPATH, \"//button[@onclick='acceptCookiees()']\")\n",
    "cookies.click()"
   ]
  },
  {
   "cell_type": "code",
   "execution_count": 48,
   "id": "aa4104b8",
   "metadata": {},
   "outputs": [],
   "source": [
    "# Navigate to VII. mandate data:\n",
    "menu1 = driver.find_element(By.ID, 'viewns_Z7_J9KAJKG10OK070QT45U8J900F6_:sf:form1:menu')\n",
    "menu1.click()"
   ]
  },
  {
   "cell_type": "code",
   "execution_count": 49,
   "id": "1bfc9f16",
   "metadata": {},
   "outputs": [],
   "source": [
    "menu2 = driver.find_element(By.XPATH, \"//option[@value = 'VIII']\")\n",
    "menu2.click()"
   ]
  },
  {
   "cell_type": "code",
   "execution_count": 50,
   "id": "c6f461cc",
   "metadata": {},
   "outputs": [],
   "source": [
    "menu3 = driver.find_element(By.XPATH, \"//input[@value = 'Išči seje']\")\n",
    "menu3.click()"
   ]
  },
  {
   "cell_type": "code",
   "execution_count": null,
   "id": "9d787add",
   "metadata": {},
   "outputs": [
    {
     "name": "stderr",
     "output_type": "stream",
     "text": [
      "Pages Scraped:   0%|                                                                            | 0/10 [05:24<?, ?it/s]\n"
     ]
    }
   ],
   "source": [
    "# Create a folder to store the data\n",
    "folder_name = \"Data_test\"\n",
    "os.makedirs(folder_name, exist_ok=True)\n",
    "\n",
    "progress_bar = tqdm(total=10, desc=\"Pages Scraped\")\n",
    "\n",
    "while True:\n",
    "    # Find all links in the table\n",
    "    links = driver.find_elements(By.XPATH, \"//table[@class='dataTableExHov']//a\")\n",
    "\n",
    "    # Loop through the links and extract the href attribute from each element\n",
    "    index = 0  # Index variable to keep track of the current link\n",
    "    while index < len(links):\n",
    "        link = links[index]\n",
    "        try:\n",
    "            href = link.get_attribute('href')\n",
    "            text = link.text\n",
    "            skupna_seja = None\n",
    "            if any(keyword in href for keyword in [\"seja\", \"srečanje\", \"posvet\"]):\n",
    "                if \"(skupna seja)\" in text:\n",
    "                    skupna_seja = \"(skupna seja)\"\n",
    "                # Click the link\n",
    "                link.click()\n",
    "\n",
    "                try:\n",
    "                    # Check if the \"Zapis seje\" link exists\n",
    "                    zapis_seje_links = driver.find_elements(By.XPATH, \"//a[contains(@id, 'viewns_Z7_J9KAJKG10OK070QT45U8J90G85_:form1:dataIterator2:0:outputLinkAB')]\")\n",
    "                    \n",
    "\n",
    "                    for i in range(len(zapis_seje_links)):\n",
    "                        # Find the updated zapis_seje_links elements after the page refresh\n",
    "                        zapis_seje_links = driver.find_elements(By.XPATH, \"//a[contains(@id, 'viewns_Z7_J9KAJKG10OK070QT45U8J90G85_:form1:dataIterator2:0:outputLinkAB')]\")\n",
    "\n",
    "                        # Click the i-th \"Zapis seje\" link\n",
    "                        zapis_link = zapis_seje_links[i]\n",
    "                        zapis_link.click()\n",
    "\n",
    "                        # Wait for the text element to be present\n",
    "                        wait = WebDriverWait(driver, 10)\n",
    "                        text_element = wait.until(EC.presence_of_element_located((By.XPATH, \"//div[@id ='viewns_Z7_J9KAJKG10G5G80QTKORJHB08M0_:form1:fieldSet1']\")))\n",
    "\n",
    "                        # Get the inner HTML of the text element\n",
    "                        inner_html = text_element.get_attribute('innerHTML')\n",
    "                        title_text = driver.find_element(By.XPATH, \"//div[@id='viewns_Z7_J9KAJKG10G5G80QTKORJHB08M0_:form1:j_id_jsp_1830645893_12']\")\n",
    "                        title_txt = title_text.text\n",
    "                        pattern = r\"Polni naziv telesa - št\\. in vrsta seje\\n\"\n",
    "                        title = re.sub(pattern, \"\", title_txt)\n",
    "                        \n",
    "\n",
    "                        date_text = driver.find_element(By.XPATH, \"//div[@id='viewns_Z7_J9KAJKG10G5G80QTKORJHB08M0_:form1:j_id_jsp_1830645893_20']\")\n",
    "                        date_txt = date_text.text\n",
    "                        pattern_date = r\"Datum zasedanja\\n\"\n",
    "                        date = re.sub(pattern_date, \"\", date_txt)\n",
    "                       \n",
    "                        \n",
    "                        if skupna_seja:\n",
    "                            title += f\" {skupna_seja}\"\n",
    "\n",
    "                         # Generate a unique filename by appending a timestamp with milliseconds\n",
    "                        timestamp = datetime.now().strftime(\"%H-%M-%S-%f\")[:-3]\n",
    "                        filename = f\"{folder_name}/Seja_{title}_{date}_{timestamp}.html\"\n",
    "\n",
    "                        # Save the inner HTML to a file\n",
    "                        with open(filename, \"w\", encoding=\"utf-8\") as file:\n",
    "                            file.write(inner_html)\n",
    "\n",
    "                        # Go back to the previous page to continue with other links\n",
    "                        driver.back()\n",
    "\n",
    "                except NoSuchElementException:\n",
    "                    # Go back to the previous page\n",
    "                    driver.back()\n",
    "\n",
    "                # Wait for the table to load before finding the links again\n",
    "                wait = WebDriverWait(driver, 10)\n",
    "                wait.until(EC.presence_of_element_located((By.XPATH, \"//table[@class='dataTableExHov']\")))\n",
    "\n",
    "            # Find all links in the table again\n",
    "            links = driver.find_elements(By.XPATH, \"//table[@class='dataTableExHov']//a\")\n",
    "\n",
    "            # Increment the index to move to the next link\n",
    "            index += 1\n",
    "\n",
    "        except (NoSuchElementException, TimeoutException, StaleElementReferenceException):\n",
    "            # Go back to the previous page\n",
    "            driver.back()\n",
    "\n",
    "            # Wait for the table to load before finding the links again\n",
    "            wait = WebDriverWait(driver, 10)\n",
    "            wait.until(EC.presence_of_element_located((By.XPATH, \"//table[@class='dataTableExHov']\")))\n",
    "\n",
    "            # Find all links in the table again\n",
    "            links = driver.find_elements(By.XPATH, \"//table[@class='dataTableExHov']//a\")\n",
    "\n",
    "            # Increment the index to move to the next link\n",
    "            index += 1\n",
    "    try:\n",
    "        # Find the \"Next\" button element\n",
    "        next_button = driver.find_element(By.XPATH, \"//input[@id='viewns_Z7_J9KAJKG10OK070QT45U8J900F6_:sf:form1:tableEx1:deluxe1__pagerNext']\")\n",
    "        next_button.click()\n",
    "\n",
    "        # Wait for the next page to load (adjust the time as needed)\n",
    "        driver.implicitly_wait(5)\n",
    "\n",
    "    except NoSuchElementException:\n",
    "        # \"Next\" button is not found, exit the loop\n",
    "        break"
   ]
  },
  {
   "cell_type": "code",
   "execution_count": null,
   "id": "778d6507",
   "metadata": {},
   "outputs": [],
   "source": [
    "driver.quit()"
   ]
  }
 ],
 "metadata": {
  "kernelspec": {
   "display_name": "Python 3 (ipykernel)",
   "language": "python",
   "name": "python3"
  },
  "language_info": {
   "codemirror_mode": {
    "name": "ipython",
    "version": 3
   },
   "file_extension": ".py",
   "mimetype": "text/x-python",
   "name": "python",
   "nbconvert_exporter": "python",
   "pygments_lexer": "ipython3",
   "version": "3.10.4"
  }
 },
 "nbformat": 4,
 "nbformat_minor": 5
}
