{
 "cells": [
  {
   "cell_type": "code",
   "execution_count": 1,
   "id": "121ddec8",
   "metadata": {},
   "outputs": [],
   "source": [
    "import csv\n",
    "import pandas as pd\n",
    "import Levenshtein"
   ]
  },
  {
   "cell_type": "code",
   "execution_count": 2,
   "id": "321cfef3",
   "metadata": {},
   "outputs": [],
   "source": [
    "# Read input CSV file\n",
    "input_file = 'sp_csv.csv'\n",
    "output_file = 'output.tsv'"
   ]
  },
  {
   "cell_type": "code",
   "execution_count": 3,
   "id": "fab4d3be",
   "metadata": {},
   "outputs": [],
   "source": [
    "# Read CSV file into a DataFrame\n",
    "df = pd.read_csv(input_file, encoding='utf-8')"
   ]
  },
  {
   "cell_type": "code",
   "execution_count": 4,
   "id": "f5b53382",
   "metadata": {},
   "outputs": [],
   "source": [
    "# Dictionary to store counts of each similar string\n",
    "similar_counts = {}\n",
    "\n",
    "# Calculate Levenshtein distances\n",
    "for i, row in df.iterrows():\n",
    "    current_id = row['xml:id']\n",
    "    current_count = row['count']\n",
    "    current_string = current_id.split(',')[0]\n",
    "\n",
    "    # Check Levenshtein distance with all other strings\n",
    "    for j, other_row in df.iterrows():\n",
    "        other_id = other_row['xml:id']\n",
    "        other_count = other_row['count']\n",
    "        other_string = other_id.split(',')[0]\n",
    "\n",
    "        distance = Levenshtein.distance(current_string, other_string)\n",
    "        if 0 < distance <= 2:\n",
    "            similar_counts.setdefault(current_string, {}).setdefault(other_string, 0)\n",
    "            similar_counts[current_string][other_string] += other_count\n",
    "\n",
    "# Find the correct corresponding string based on the most occurrences\n",
    "correct_strings = {}\n",
    "for string, similar_strings in similar_counts.items():\n",
    "    most_common = max(similar_strings.items(), key=lambda x: x[1])\n",
    "    if similar_strings:  # Check if there are any similar strings\n",
    "        if most_common[1] >= df.loc[df['xml:id'].str.startswith(string), 'count'].sum():\n",
    "            correct_strings[string] = most_common[0]\n",
    "        else:\n",
    "            correct_strings[string] = string\n",
    "    else:\n",
    "        correct_strings[string] = string  "
   ]
  },
  {
   "cell_type": "code",
   "execution_count": 6,
   "id": "51342f72",
   "metadata": {},
   "outputs": [],
   "source": [
    "with open(output_file, 'w', newline='', encoding='utf-8') as tsvfile:\n",
    "    writer = csv.writer(tsvfile, delimiter='\\t')\n",
    "    writer.writerow(['xml:id', 'count', 'correct_string'])\n",
    "    for row in df.itertuples(index=False):\n",
    "        current_id = row[0]\n",
    "        current_count = row[1]\n",
    "        current_string = current_id.split(',')[0]\n",
    "        correct_string = correct_strings.get(current_string, current_string)\n",
    "        writer.writerow([current_id, current_count, correct_string])"
   ]
  }
 ],
 "metadata": {
  "kernelspec": {
   "display_name": "Python 3 (ipykernel)",
   "language": "python",
   "name": "python3"
  },
  "language_info": {
   "codemirror_mode": {
    "name": "ipython",
    "version": 3
   },
   "file_extension": ".py",
   "mimetype": "text/x-python",
   "name": "python",
   "nbconvert_exporter": "python",
   "pygments_lexer": "ipython3",
   "version": "3.10.4"
  }
 },
 "nbformat": 4,
 "nbformat_minor": 5
}
