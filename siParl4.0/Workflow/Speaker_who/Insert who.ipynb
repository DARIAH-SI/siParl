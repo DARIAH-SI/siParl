{
 "cells": [
  {
   "cell_type": "code",
   "execution_count": 5,
   "id": "ca3a2dd0",
   "metadata": {},
   "outputs": [],
   "source": [
    "import os\n",
    "import csv\n",
    "from xml.etree import ElementTree as ET"
   ]
  },
  {
   "cell_type": "code",
   "execution_count": 6,
   "id": "d59a7dbd",
   "metadata": {},
   "outputs": [],
   "source": [
    "# Define paths to files\n",
    "tsv_file = 'output.tsv'\n",
    "xml_file = '../listPerson-list.xml'\n",
    "#output_xml_file = 'WHO_output.xml'"
   ]
  },
  {
   "cell_type": "code",
   "execution_count": 7,
   "id": "9c2da60d",
   "metadata": {},
   "outputs": [],
   "source": [
    "def update_xml(tsv_file, xml_file):\n",
    "    # Read TSV file and store data\n",
    "    ns = {'': 'http://www.tei-c.org/ns/1.0'}\n",
    "\n",
    "    data = {}\n",
    "    with open(tsv_file, 'r', newline='', encoding='utf-8') as tsvfile:\n",
    "        tsv_reader = csv.DictReader(tsvfile, delimiter='\\t')\n",
    "        for row in tsv_reader:\n",
    "            data[row['xml:id']] = row['correct_string']\n",
    "\n",
    "    # Parse XML\n",
    "    tree = ET.parse(xml_file)\n",
    "    root = tree.getroot()\n",
    "    \n",
    "    ET.register_namespace(\"\", \"http://www.tei-c.org/ns/1.0\")\n",
    "\n",
    "\n",
    "    # Update XML elements\n",
    "    for sp_element in root.findall('.//person', ns):\n",
    "        who_attribute = sp_element.get('{http://www.w3.org/XML/1998/namespace}id')\n",
    "        if who_attribute in data:\n",
    "            corrected_value = data[who_attribute]\n",
    "            # Add who_corrected attribute only for corrected values\n",
    "            sp_element.set('ana', corrected_value)\n",
    "            \n",
    "    tree.write(xml_file, encoding='utf-8', xml_declaration=True)\n",
    "\n",
    "            \n",
    "    # Write updated XML to a temporary file\n",
    "   # temp_xml_file = xml_file + '.temp'\n",
    "  #  tree.write(temp_xml_file, encoding='utf-8', xml_declaration=True)\n",
    "\n",
    "    # Read the temporary file and remove namespace prefix\n",
    "  #  with open(temp_xml_file, 'r', encoding='utf-8') as temp_file:\n",
    "   #     content = temp_file.read().replace('ns0:', '')\n",
    "#\n",
    "    # Write the modified content back to the original XML file\n",
    " #   with open(xml_file, 'w', encoding='utf-8') as original_file:\n",
    " #       original_file.write(content)\n",
    "\n",
    "    # Remove the temporary file\n",
    " #   os.remove(temp_xml_file)"
   ]
  },
  {
   "cell_type": "code",
   "execution_count": 8,
   "id": "1047d4f2",
   "metadata": {},
   "outputs": [
    {
     "name": "stdout",
     "output_type": "stream",
     "text": [
      "XML file has been updated and saved to ../listPerson.xml\n"
     ]
    }
   ],
   "source": [
    "update_xml(tsv_file, xml_file)\n",
    "print(f\"XML file has been updated and saved to {xml_file}\")"
   ]
  },
  {
   "cell_type": "code",
   "execution_count": null,
   "id": "c1fb4185",
   "metadata": {},
   "outputs": [],
   "source": []
  }
 ],
 "metadata": {
  "kernelspec": {
   "display_name": "Python 3 (ipykernel)",
   "language": "python",
   "name": "python3"
  },
  "language_info": {
   "codemirror_mode": {
    "name": "ipython",
    "version": 3
   },
   "file_extension": ".py",
   "mimetype": "text/x-python",
   "name": "python",
   "nbconvert_exporter": "python",
   "pygments_lexer": "ipython3",
   "version": "3.10.4"
  }
 },
 "nbformat": 4,
 "nbformat_minor": 5
}
